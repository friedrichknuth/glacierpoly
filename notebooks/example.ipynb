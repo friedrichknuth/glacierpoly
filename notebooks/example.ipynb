{
 "cells": [
  {
   "cell_type": "markdown",
   "metadata": {},
   "source": [
    "## Download testing data"
   ]
  },
  {
   "cell_type": "code",
   "execution_count": null,
   "metadata": {},
   "outputs": [],
   "source": [
    "%load_ext autoreload\n",
    "%autoreload 2"
   ]
  },
  {
   "cell_type": "code",
   "execution_count": null,
   "metadata": {},
   "outputs": [],
   "source": [
    "import glacierpoly as gpoly\n",
    "import glob\n",
    "import matplotlib.pyplot as plt"
   ]
  },
  {
   "cell_type": "code",
   "execution_count": null,
   "metadata": {},
   "outputs": [],
   "source": [
    "import cv2\n",
    "import glob\n",
    "import geopandas as gpd\n",
    "import img2pdf\n",
    "import numpy as np\n",
    "import os\n",
    "import pandas as pd\n",
    "from pathlib import Path\n",
    "import rasterio\n",
    "from rasterio import mask\n",
    "from rasterstats import zonal_stats\n",
    "from shapely.geometry import Polygon, MultiPolygon\n",
    "from shapely.ops import polygonize\n",
    "from skimage.morphology import (erosion, dilation, closing, opening,\n",
    "                                area_closing, area_opening)\n",
    "from skimage.measure import label, regionprops, regionprops_table\n",
    "import subprocess\n",
    "from matplotlib.patches import Patch\n",
    "from matplotlib.lines import Line2D\n"
   ]
  },
  {
   "cell_type": "code",
   "execution_count": null,
   "metadata": {},
   "outputs": [],
   "source": [
    "reference_dem_file = '/mnt/Backups/knuth/paper/south_cascade/final_products/scg_test_data/reference_dem.tif'\n",
    "reference_glacier_polygon_file = '/mnt/Backups/knuth/paper/south_cascade/final_products/scg_test_data/rgi_glacier_oultine.geojson'\n",
    "difference_maps_files = sorted(glob.glob('/mnt/Backups/knuth/paper/south_cascade/final_products/scg_test_data/dod*.tif'))\n",
    "ortho_files = sorted(glob.glob('/mnt/Backups/knuth/paper/south_cascade/final_products/scg_test_data/ortho*.tif'))"
   ]
  },
  {
   "cell_type": "code",
   "execution_count": null,
   "metadata": {},
   "outputs": [],
   "source": [
    "gpoly.core.run_detection(reference_dem_file,\n",
    "                  difference_maps_files,\n",
    "                  reference_glacier_polygon_file,\n",
    "                     ortho_files = ortho_files,    \n",
    "                  output_directory = 'outputs')"
   ]
  },
  {
   "cell_type": "code",
   "execution_count": null,
   "metadata": {},
   "outputs": [],
   "source": [
    "gpoly.core.run_detection(reference_dem_file,\n",
    "                  [difference_maps_files[0],],\n",
    "                  reference_glacier_polygon_file,\n",
    "                     ortho_files = [ortho_files[0],],\n",
    "                         dilation_iterations=2,\n",
    "                  output_directory = 'outputs')"
   ]
  }
 ],
 "metadata": {
  "kernelspec": {
   "display_name": "glacierpoly",
   "language": "python",
   "name": "glacierpoly"
  },
  "language_info": {
   "codemirror_mode": {
    "name": "ipython",
    "version": 3
   },
   "file_extension": ".py",
   "mimetype": "text/x-python",
   "name": "python",
   "nbconvert_exporter": "python",
   "pygments_lexer": "ipython3",
   "version": "3.8.8"
  }
 },
 "nbformat": 4,
 "nbformat_minor": 4
}
