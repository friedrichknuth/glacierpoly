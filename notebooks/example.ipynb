{
 "cells": [
  {
   "cell_type": "markdown",
   "metadata": {},
   "source": [
    "## Download testing data"
   ]
  },
  {
   "cell_type": "code",
   "execution_count": 1,
   "metadata": {},
   "outputs": [],
   "source": [
    "%load_ext autoreload\n",
    "%autoreload 2"
   ]
  },
  {
   "cell_type": "code",
   "execution_count": 2,
   "metadata": {},
   "outputs": [],
   "source": [
    "import glacierpoly as gpoly\n",
    "import glob\n",
    "import matplotlib.pyplot as plt"
   ]
  },
  {
   "cell_type": "code",
   "execution_count": 3,
   "metadata": {},
   "outputs": [],
   "source": [
    "import cv2\n",
    "import glob\n",
    "import geopandas as gpd\n",
    "import img2pdf\n",
    "import numpy as np\n",
    "import os\n",
    "import pandas as pd\n",
    "from pathlib import Path\n",
    "import rasterio\n",
    "from rasterio import mask\n",
    "from rasterstats import zonal_stats\n",
    "from shapely.geometry import Polygon, MultiPolygon\n",
    "from shapely.ops import polygonize\n",
    "from skimage.morphology import (erosion, dilation, closing, opening,\n",
    "                                area_closing, area_opening)\n",
    "from skimage.measure import label, regionprops, regionprops_table\n",
    "import subprocess\n",
    "from matplotlib.patches import Patch\n",
    "from matplotlib.lines import Line2D\n"
   ]
  },
  {
   "cell_type": "code",
   "execution_count": 4,
   "metadata": {},
   "outputs": [],
   "source": [
    "reference_dem_file = '/mnt/Backups/knuth/paper/south_cascade/final_products/scg_test_data/reference_dem.tif'\n",
    "reference_glacier_polygon_file = '/mnt/Backups/knuth/paper/south_cascade/final_products/scg_test_data/rgi_glacier_oultine.geojson'\n",
    "difference_maps_files = sorted(glob.glob('/mnt/Backups/knuth/paper/south_cascade/final_products/scg_test_data/dod*.tif'))\n",
    "ortho_files = sorted(glob.glob('/mnt/Backups/knuth/paper/south_cascade/final_products/scg_test_data/ortho*.tif'))"
   ]
  },
  {
   "cell_type": "code",
   "execution_count": 5,
   "metadata": {},
   "outputs": [
    {
     "name": "stdout",
     "output_type": "stream",
     "text": [
      "processing dod_1967-09-21\n",
      "detected polygon does not intersect reference polygon\n",
      "reattempting detection without eroding islands\n",
      "SUCCESS\n",
      "\n",
      "processing dod_1970-09-29\n",
      "SUCCESS\n",
      "\n",
      "processing dod_1974-08-10\n",
      "SUCCESS\n",
      "\n",
      "processing dod_1977-10-03\n",
      "SUCCESS\n",
      "\n",
      "processing dod_1979-08-20\n",
      "SUCCESS\n",
      "\n",
      "processing dod_1979-10-06\n",
      "detected polygon does not intersect reference polygon\n",
      "reattempting detection without eroding islands\n",
      "SUCCESS\n",
      "\n",
      "processing dod_1984-08-14\n",
      "SUCCESS\n",
      "\n",
      "processing dod_1986-09-05\n",
      "SUCCESS\n",
      "\n",
      "processing dod_1987-08-21\n",
      "SUCCESS\n",
      "\n",
      "processing dod_1990-09-05\n",
      "SUCCESS\n",
      "\n",
      "processing dod_1991-09-09\n",
      "SUCCESS\n",
      "\n",
      "processing dod_1992-07-28\n",
      "SUCCESS\n",
      "\n",
      "processing dod_1992-09-15\n",
      "SUCCESS\n",
      "\n",
      "processing dod_1992-09-18\n",
      "SUCCESS\n",
      "\n",
      "processing dod_1992-10-06\n",
      "SUCCESS\n",
      "\n",
      "processing dod_1994-09-06\n",
      "SUCCESS\n",
      "\n",
      "processing dod_1996-09-10\n",
      "SUCCESS\n",
      "\n",
      "processing dod_1997-09-23\n",
      "SUCCESS\n",
      "\n"
     ]
    }
   ],
   "source": [
    "gpoly.core.run_detection(reference_dem_file,\n",
    "                  difference_maps_files,\n",
    "                  reference_glacier_polygon_file,\n",
    "                     ortho_files,    \n",
    "                  output_directory = 'outputs')"
   ]
  },
  {
   "cell_type": "code",
   "execution_count": null,
   "metadata": {},
   "outputs": [],
   "source": []
  },
  {
   "cell_type": "code",
   "execution_count": null,
   "metadata": {},
   "outputs": [],
   "source": []
  },
  {
   "cell_type": "code",
   "execution_count": 171,
   "metadata": {},
   "outputs": [],
   "source": [
    "detected_polygon_file = 'outputs/glacier_outline_full_1967-09-21.geojson'"
   ]
  },
  {
   "cell_type": "code",
   "execution_count": 191,
   "metadata": {},
   "outputs": [],
   "source": [
    "merged = gpoly.core.merge_with_undetected_high_elevation_areas(reference_dem_file,\n",
    "    reference_glacier_polygon_file,\n",
    "    detected_polygon_file,\n",
    ")"
   ]
  },
  {
   "cell_type": "code",
   "execution_count": 192,
   "metadata": {},
   "outputs": [],
   "source": [
    "tmp = gpd.GeoDataFrame(geometry=merged.buffer(1)).dissolve().explode().reset_index().iloc[: , 2:]\n",
    "tmp = tmp[tmp.area == tmp.area.max()]\n",
    "input_l = tmp.geometry.exterior.reset_index(drop=True).iloc[0]\n"
   ]
  },
  {
   "cell_type": "code",
   "execution_count": 193,
   "metadata": {},
   "outputs": [],
   "source": [
    "merged = merged.geometry.append(gpd.GeoSeries([Polygon(input_l.coords)]))\n",
    "merged = gpd.GeoDataFrame(geometry=merged).dissolve()"
   ]
  },
  {
   "cell_type": "code",
   "execution_count": 199,
   "metadata": {},
   "outputs": [],
   "source": [
    "merged = merged.explode().reset_index().iloc[:, 2:]\n",
    "geoms = []\n",
    "for i in range(0, len(merged)):\n",
    "    geoms.append(Polygon(merged[\"geometry\"].iloc[i].exterior))\n",
    "merged[\"geometry\"] = geoms\n",
    "merged = merged.dissolve()"
   ]
  },
  {
   "cell_type": "code",
   "execution_count": 200,
   "metadata": {},
   "outputs": [
    {
     "data": {
      "text/plain": [
       "0  0     1.493255e+01\n",
       "   1     5.692599e+01\n",
       "   2     2.213654e-01\n",
       "   3     4.174673e-01\n",
       "   4     1.300188e+04\n",
       "   5     9.068026e-01\n",
       "   6     2.262430e+02\n",
       "   7     6.542470e-02\n",
       "   8     7.539180e+00\n",
       "   9     2.796443e+06\n",
       "   10    6.202677e-01\n",
       "   11    1.777066e+01\n",
       "   12    4.104951e+00\n",
       "   13    2.610191e+01\n",
       "   14    7.659037e+00\n",
       "   15    1.753815e+01\n",
       "   16    2.570055e+01\n",
       "   17    3.476477e-01\n",
       "   18    2.700833e-03\n",
       "   19    1.367944e+01\n",
       "dtype: float64"
      ]
     },
     "execution_count": 200,
     "metadata": {},
     "output_type": "execute_result"
    }
   ],
   "source": [
    "merged.explode().area"
   ]
  },
  {
   "cell_type": "code",
   "execution_count": 197,
   "metadata": {},
   "outputs": [
    {
     "data": {
      "text/plain": [
       "0  0     1.493255e+01\n",
       "   1     5.692599e+01\n",
       "   2     2.213654e-01\n",
       "   3     4.174673e-01\n",
       "   4     1.300188e+04\n",
       "   5     9.068026e-01\n",
       "   6     2.262430e+02\n",
       "   7     6.542470e-02\n",
       "   8     7.539180e+00\n",
       "   9     2.796443e+06\n",
       "   10    6.202677e-01\n",
       "   11    1.777066e+01\n",
       "   12    4.104951e+00\n",
       "   13    2.610191e+01\n",
       "   14    7.659037e+00\n",
       "   15    1.753815e+01\n",
       "   16    2.570055e+01\n",
       "   17    3.476477e-01\n",
       "   18    2.700833e-03\n",
       "   19    1.367944e+01\n",
       "dtype: float64"
      ]
     },
     "execution_count": 197,
     "metadata": {},
     "output_type": "execute_result"
    }
   ],
   "source": [
    "merged.explode().area"
   ]
  },
  {
   "cell_type": "code",
   "execution_count": 182,
   "metadata": {},
   "outputs": [],
   "source": []
  },
  {
   "cell_type": "code",
   "execution_count": 201,
   "metadata": {},
   "outputs": [],
   "source": [
    "! rm -rf outputs/"
   ]
  },
  {
   "cell_type": "code",
   "execution_count": null,
   "metadata": {},
   "outputs": [],
   "source": []
  },
  {
   "cell_type": "code",
   "execution_count": null,
   "metadata": {},
   "outputs": [],
   "source": []
  },
  {
   "cell_type": "code",
   "execution_count": null,
   "metadata": {},
   "outputs": [],
   "source": []
  },
  {
   "cell_type": "code",
   "execution_count": null,
   "metadata": {},
   "outputs": [],
   "source": []
  },
  {
   "cell_type": "code",
   "execution_count": null,
   "metadata": {},
   "outputs": [],
   "source": []
  },
  {
   "cell_type": "code",
   "execution_count": 212,
   "metadata": {},
   "outputs": [
    {
     "data": {
      "text/plain": [
       "'2.42'"
      ]
     },
     "execution_count": 212,
     "metadata": {},
     "output_type": "execute_result"
    }
   ],
   "source": []
  },
  {
   "cell_type": "code",
   "execution_count": 15,
   "metadata": {},
   "outputs": [],
   "source": [
    "# difference_maps_files = [difference_maps_files[1],]"
   ]
  },
  {
   "cell_type": "code",
   "execution_count": 206,
   "metadata": {},
   "outputs": [],
   "source": [
    "gdf = gpd.read_file('outputs/glacier_outline_detected_1974-08-10.geojson')"
   ]
  },
  {
   "cell_type": "code",
   "execution_count": 155,
   "metadata": {},
   "outputs": [],
   "source": [
    "a = gpd.GeoDataFrame(geometry=gdf.buffer(1)).dissolve().explode().reset_index().iloc[: , 2:]"
   ]
  },
  {
   "cell_type": "code",
   "execution_count": 156,
   "metadata": {},
   "outputs": [],
   "source": [
    "tmp = a[a.area == a.area.max()]"
   ]
  },
  {
   "cell_type": "code",
   "execution_count": 158,
   "metadata": {},
   "outputs": [],
   "source": [
    "input_l = tmp.geometry.exterior.reset_index(drop=True).iloc[0]"
   ]
  },
  {
   "cell_type": "code",
   "execution_count": 159,
   "metadata": {},
   "outputs": [],
   "source": [
    "gdf = gdf.geometry.append(gpd.GeoSeries([Polygon(input_l.coords)]))"
   ]
  },
  {
   "cell_type": "code",
   "execution_count": 187,
   "metadata": {},
   "outputs": [
    {
     "data": {
      "text/plain": [
       "0    MULTIPOLYGON (((643553.171 5357499.114, 643553...\n",
       "0    POLYGON ((643195.286 5357974.055, 643195.301 5...\n",
       "dtype: geometry"
      ]
     },
     "execution_count": 187,
     "metadata": {},
     "output_type": "execute_result"
    }
   ],
   "source": [
    "gdf"
   ]
  },
  {
   "cell_type": "code",
   "execution_count": 123,
   "metadata": {},
   "outputs": [],
   "source": [
    "# input_p"
   ]
  },
  {
   "cell_type": "code",
   "execution_count": 115,
   "metadata": {},
   "outputs": [],
   "source": [
    "input_l = a[a.index == 2].geometry.exterior.reset_index(drop=True).iloc[0]"
   ]
  },
  {
   "cell_type": "code",
   "execution_count": 140,
   "metadata": {},
   "outputs": [],
   "source": [
    "gdf = gdf.geometry.append(gpd.GeoSeries([Polygon(input_l.coords)]))"
   ]
  },
  {
   "cell_type": "code",
   "execution_count": null,
   "metadata": {},
   "outputs": [],
   "source": []
  },
  {
   "cell_type": "code",
   "execution_count": 144,
   "metadata": {},
   "outputs": [
    {
     "data": {
      "text/plain": [
       "<AxesSubplot:>"
      ]
     },
     "execution_count": 144,
     "metadata": {},
     "output_type": "execute_result"
    },
    {
     "data": {
      "image/png": "[encoded data removed]",
      "text/plain": [
       "<Figure size 432x288 with 1 Axes>"
      ]
     },
     "metadata": {
      "needs_background": "light"
     },
     "output_type": "display_data"
    }
   ],
   "source": [
    "gpd.GeoDataFrame(geometry=gdf).dissolve().plot()"
   ]
  },
  {
   "cell_type": "code",
   "execution_count": 117,
   "metadata": {},
   "outputs": [],
   "source": [
    "unioned = input_p.boundary.union(input_l)"
   ]
  },
  {
   "cell_type": "code",
   "execution_count": 118,
   "metadata": {},
   "outputs": [],
   "source": [
    "keep_polys = [poly for poly in polygonize(unioned) if poly.representative_point().within(input_p)]"
   ]
  },
  {
   "cell_type": "code",
   "execution_count": 127,
   "metadata": {},
   "outputs": [],
   "source": [
    "test = gpd.GeoDataFrame(geometry=[MultiPolygon(keep_polys)]).dissolve().explode().reset_index().iloc[: , 2:]"
   ]
  },
  {
   "cell_type": "code",
   "execution_count": 130,
   "metadata": {},
   "outputs": [
    {
     "data": {
      "text/plain": [
       "0    1.195443e+00\n",
       "1    2.048697e-01\n",
       "2    1.572794e-01\n",
       "3    1.685742e+01\n",
       "4    4.451542e-01\n",
       "5    7.239857e-01\n",
       "6    2.415725e+06\n",
       "dtype: float64"
      ]
     },
     "execution_count": 130,
     "metadata": {},
     "output_type": "execute_result"
    }
   ],
   "source": [
    "test.area"
   ]
  },
  {
   "cell_type": "code",
   "execution_count": null,
   "metadata": {},
   "outputs": [],
   "source": []
  },
  {
   "cell_type": "code",
   "execution_count": null,
   "metadata": {},
   "outputs": [],
   "source": []
  },
  {
   "cell_type": "code",
   "execution_count": null,
   "metadata": {},
   "outputs": [],
   "source": []
  },
  {
   "cell_type": "code",
   "execution_count": 19,
   "metadata": {},
   "outputs": [
    {
     "name": "stdout",
     "output_type": "stream",
     "text": [
      "outputs/glacier_outline_detected_1967-09-21.geojson\r\n",
      "outputs/glacier_outline_detected_1970-09-29.geojson\r\n",
      "outputs/glacier_outline_detected_1974-08-10.geojson\r\n",
      "outputs/glacier_outline_detected_1977-10-03.geojson\r\n",
      "outputs/glacier_outline_detected_1979-08-20.geojson\r\n",
      "outputs/glacier_outline_detected_1979-10-06.geojson\r\n",
      "outputs/glacier_outline_detected_1984-08-14.geojson\r\n",
      "outputs/glacier_outline_detected_1986-09-05.geojson\r\n",
      "outputs/glacier_outline_detected_1987-08-21.geojson\r\n",
      "outputs/glacier_outline_detected_1990-09-05.geojson\r\n",
      "outputs/glacier_outline_detected_1991-09-09.geojson\r\n",
      "outputs/glacier_outline_detected_1992-07-28.geojson\r\n",
      "outputs/glacier_outline_detected_1992-09-15.geojson\r\n",
      "outputs/glacier_outline_detected_1992-09-18.geojson\r\n",
      "outputs/glacier_outline_detected_1992-10-06.geojson\r\n",
      "outputs/glacier_outline_detected_1994-09-06.geojson\r\n",
      "outputs/glacier_outline_detected_1996-09-10.geojson\r\n",
      "outputs/glacier_outline_detected_1997-09-23.geojson\r\n",
      "outputs/glacier_outline_full_1967-09-21.geojson\r\n",
      "outputs/glacier_outline_full_1970-09-29.geojson\r\n",
      "outputs/glacier_outline_full_1974-08-10.geojson\r\n",
      "outputs/glacier_outline_full_1977-10-03.geojson\r\n",
      "outputs/glacier_outline_full_1979-08-20.geojson\r\n",
      "outputs/glacier_outline_full_1979-10-06.geojson\r\n",
      "outputs/glacier_outline_full_1984-08-14.geojson\r\n",
      "outputs/glacier_outline_full_1986-09-05.geojson\r\n",
      "outputs/glacier_outline_full_1987-08-21.geojson\r\n",
      "outputs/glacier_outline_full_1990-09-05.geojson\r\n",
      "outputs/glacier_outline_full_1991-09-09.geojson\r\n",
      "outputs/glacier_outline_full_1992-07-28.geojson\r\n",
      "outputs/glacier_outline_full_1992-09-15.geojson\r\n",
      "outputs/glacier_outline_full_1992-09-18.geojson\r\n",
      "outputs/glacier_outline_full_1992-10-06.geojson\r\n",
      "outputs/glacier_outline_full_1994-09-06.geojson\r\n",
      "outputs/glacier_outline_full_1996-09-10.geojson\r\n",
      "outputs/glacier_outline_full_1997-09-23.geojson\r\n"
     ]
    }
   ],
   "source": []
  },
  {
   "cell_type": "code",
   "execution_count": null,
   "metadata": {},
   "outputs": [],
   "source": []
  },
  {
   "cell_type": "code",
   "execution_count": 16,
   "metadata": {},
   "outputs": [
    {
     "name": "stdout",
     "output_type": "stream",
     "text": [
      "processing dod_1967-09-21\n",
      "detected polygon does not intersect reference polygon\n",
      "reattempting detection without eroding islands\n",
      "SUCCESS\n",
      "\n",
      "processing dod_1970-09-29\n",
      "SUCCESS\n",
      "\n",
      "processing dod_1974-08-10\n",
      "SUCCESS\n",
      "\n",
      "processing dod_1977-10-03\n",
      "SUCCESS\n",
      "\n",
      "processing dod_1979-08-20\n",
      "SUCCESS\n",
      "\n",
      "processing dod_1979-10-06\n",
      "detected polygon does not intersect reference polygon\n",
      "reattempting detection without eroding islands\n",
      "SUCCESS\n",
      "\n",
      "processing dod_1984-08-14\n",
      "SUCCESS\n",
      "\n",
      "processing dod_1986-09-05\n",
      "SUCCESS\n",
      "\n",
      "processing dod_1987-08-21\n",
      "SUCCESS\n",
      "\n",
      "processing dod_1990-09-05\n",
      "SUCCESS\n",
      "\n",
      "processing dod_1991-09-09\n",
      "SUCCESS\n",
      "\n",
      "processing dod_1992-07-28\n",
      "SUCCESS\n",
      "\n",
      "processing dod_1992-09-15\n",
      "SUCCESS\n",
      "\n",
      "processing dod_1992-09-18\n",
      "SUCCESS\n",
      "\n",
      "processing dod_1992-10-06\n",
      "SUCCESS\n",
      "\n",
      "processing dod_1994-09-06\n",
      "SUCCESS\n",
      "\n",
      "processing dod_1996-09-10\n",
      "SUCCESS\n",
      "\n",
      "processing dod_1997-09-23\n",
      "SUCCESS\n",
      "\n"
     ]
    }
   ],
   "source": []
  },
  {
   "cell_type": "code",
   "execution_count": 12,
   "metadata": {},
   "outputs": [],
   "source": [
    "! rm -rf outputs"
   ]
  },
  {
   "cell_type": "code",
   "execution_count": 8,
   "metadata": {},
   "outputs": [],
   "source": [
    "difference_map_file = difference_maps_files[0]\n",
    "output_directory = 'outputs'"
   ]
  },
  {
   "cell_type": "code",
   "execution_count": 9,
   "metadata": {},
   "outputs": [
    {
     "name": "stdout",
     "output_type": "stream",
     "text": [
      "processing dod_1970-09-29\n"
     ]
    }
   ],
   "source": [
    "file_name = str(Path(difference_map_file).stem)\n",
    "print(\"processing\", file_name)\n",
    "\n",
    "transform, res, crs = gpoly.core.get_raster_metadata(difference_map_file)\n",
    "array = gpoly.core.clip_raster_by_buffer(\n",
    "    difference_map_file, reference_glacier_polygon_file, buffer_distance=2000\n",
    ")"
   ]
  },
  {
   "cell_type": "code",
   "execution_count": 10,
   "metadata": {},
   "outputs": [],
   "source": [
    "arrays = gpoly.core.detect_glacier(array, erode_islands=False)"
   ]
  },
  {
   "cell_type": "code",
   "execution_count": 11,
   "metadata": {},
   "outputs": [],
   "source": [
    "detected_array = arrays[-1]\n",
    "detected_polygon_gdf = gpoly.core.convert_glacier_array_to_gdf(\n",
    "    detected_array, transform, res, crs\n",
    ")"
   ]
  },
  {
   "cell_type": "code",
   "execution_count": 12,
   "metadata": {},
   "outputs": [],
   "source": [
    "detected_polygon_gdf = gpoly.core.find_largest_intersecting_detected_polygon(\n",
    "    reference_glacier_polygon_file, detected_polygon_gdf\n",
    ")"
   ]
  },
  {
   "cell_type": "code",
   "execution_count": 13,
   "metadata": {},
   "outputs": [],
   "source": [
    "detected_polygon_gdf = gpoly.core.clip_area_beyond_previous_glacier_boundary(\n",
    "    reference_glacier_polygon_file, detected_polygon_gdf\n",
    ")\n"
   ]
  },
  {
   "cell_type": "code",
   "execution_count": 14,
   "metadata": {},
   "outputs": [],
   "source": [
    "detected_polygon_file = gpoly.core.save_polygon_gdf_to_geojson(\n",
    "    detected_polygon_gdf,\n",
    "    output_directory,\n",
    "    \"glacier_outline_detected_\" + file_name.split(\"_\")[-1],\n",
    ")"
   ]
  },
  {
   "cell_type": "code",
   "execution_count": 15,
   "metadata": {},
   "outputs": [],
   "source": [
    "merged = gpoly.core.merge_with_undetected_high_elevation_areas(\n",
    "    reference_dem_file,\n",
    "    reference_glacier_polygon_file,\n",
    "    detected_polygon_file,\n",
    ")"
   ]
  },
  {
   "cell_type": "code",
   "execution_count": 16,
   "metadata": {},
   "outputs": [],
   "source": [
    "merged_polygon_file =             gpoly.core.save_polygon_gdf_to_geojson(\n",
    "                merged,\n",
    "                output_directory,\n",
    "                \"glacier_outline_full_\" + file_name.split(\"_\")[-1],\n",
    "            )"
   ]
  },
  {
   "cell_type": "code",
   "execution_count": 90,
   "metadata": {},
   "outputs": [
    {
     "name": "stdout",
     "output_type": "stream",
     "text": [
      "181.0 242.0\n"
     ]
    }
   ],
   "source": [
    "gpoly.plotting.plot_dod_with_polygons(ortho_files[1],\n",
    "                           reference_glacier_polygon_file,\n",
    "                           merged_polygon_file,\n",
    "                           output_directory,\n",
    "                                      suffix='test',\n",
    "                           cmap='Greys')"
   ]
  },
  {
   "cell_type": "code",
   "execution_count": 53,
   "metadata": {},
   "outputs": [],
   "source": [
    "source = rasterio.open(ortho_files[1])"
   ]
  },
  {
   "cell_type": "code",
   "execution_count": 81,
   "metadata": {},
   "outputs": [
    {
     "data": {
      "text/plain": [
       "2663958.5313404347"
      ]
     },
     "execution_count": 81,
     "metadata": {},
     "output_type": "execute_result"
    }
   ],
   "source": [
    "merged.geometry.area[0]"
   ]
  },
  {
   "cell_type": "code",
   "execution_count": 83,
   "metadata": {},
   "outputs": [],
   "source": [
    "a = ['a','b']"
   ]
  },
  {
   "cell_type": "code",
   "execution_count": 84,
   "metadata": {},
   "outputs": [
    {
     "name": "stdout",
     "output_type": "stream",
     "text": [
      "yes\n"
     ]
    }
   ],
   "source": [
    "if a :\n",
    "    print('yes')"
   ]
  },
  {
   "cell_type": "code",
   "execution_count": 67,
   "metadata": {},
   "outputs": [],
   "source": [
    "array = gpoly.core.replace_and_fill_nodata_value(array, source.nodata, np.nan)"
   ]
  },
  {
   "cell_type": "code",
   "execution_count": 69,
   "metadata": {},
   "outputs": [
    {
     "data": {
      "text/plain": [
       "array([181., 242.])"
      ]
     },
     "execution_count": 69,
     "metadata": {},
     "output_type": "execute_result"
    }
   ],
   "source": [
    "np.nanpercentile(array,[5,95])"
   ]
  },
  {
   "cell_type": "code",
   "execution_count": 18,
   "metadata": {},
   "outputs": [],
   "source": [
    "gpoly.plotting.plot_dod_with_polygons(difference_map_file,\n",
    "                           reference_glacier_polygon_file,\n",
    "                           merged_polygon_file,\n",
    "                           output_directory,\n",
    "                           cmap='RdBu',\n",
    "                           vmin=-10,\n",
    "                           vmax=10)"
   ]
  },
  {
   "cell_type": "code",
   "execution_count": 137,
   "metadata": {},
   "outputs": [],
   "source": [
    "from rasterio.plot import show\n",
    "import cartopy"
   ]
  },
  {
   "cell_type": "code",
   "execution_count": 183,
   "metadata": {},
   "outputs": [],
   "source": [
    "def plot_dod_with_polygons(difference_map_file,\n",
    "                           reference_glacier_polygon_file,\n",
    "                           merged_polygon_file,\n",
    "                           cmap=None,\n",
    "                           vmin = None,\n",
    "                           vmax = None,\n",
    "                           cbar_fraction=0.035):\n",
    "    \n",
    "    source = rasterio.open(difference_map_file)\n",
    "\n",
    "    fig, ax = plt.subplots(figsize=(10, 10))\n",
    "\n",
    "    sm = ax.imshow(source.read(1), cmap=cmap, vmin=vmin, vmax=vmax,alpha=0.5)\n",
    "\n",
    "    crs = cartopy.crs.epsg(source.crs.to_epsg())\n",
    "\n",
    "    ax = plt.axes(projection=crs)\n",
    "\n",
    "    show(source, cmap=cmap, ax=ax, interpolation=\"none\", vmin=vmin, vmax=vmax,alpha=0.5)\n",
    "\n",
    "    cb = fig.colorbar(sm, \n",
    "                 ax=ax, \n",
    "                 fraction=cbar_fraction, \n",
    "                 pad=0.001, \n",
    "                 extend=\"both\", \n",
    "                 aspect=50)\n",
    "    cb.set_label(label='Elevation difference [m]', size=15)\n",
    "    cb.ax.tick_params(labelsize=12) \n",
    "    \n",
    "    reference_glacier_polygon = gpd.read_file(reference_glacier_polygon_file)\n",
    "    merged_polygon = gpd.read_file(merged_polygon_file)\n",
    "\n",
    "    reference_glacier_polygon.plot(ax=ax, facecolor=\"none\", edgecolor=\"b\")\n",
    "    merged_polygon.plot(ax=ax, facecolor=\"none\", edgecolor=\"g\")\n",
    "    \n",
    "    labels = ['RGI', 'Detected']\n",
    "    patches = [Line2D([0], [0], color='b',label=labels[0]),\n",
    "               Line2D([0], [0], color='g',label=labels[1])]\n",
    "    ax.legend(handles=patches)"
   ]
  },
  {
   "cell_type": "code",
   "execution_count": null,
   "metadata": {},
   "outputs": [],
   "source": []
  },
  {
   "cell_type": "code",
   "execution_count": 43,
   "metadata": {},
   "outputs": [
    {
     "ename": "TypeError",
     "evalue": "plot_dod_with_polygons() missing 1 required positional argument: 'output_directory'",
     "output_type": "error",
     "traceback": [
      "\u001b[0;31m---------------------------------------------------------------------------\u001b[0m",
      "\u001b[0;31mTypeError\u001b[0m                                 Traceback (most recent call last)",
      "\u001b[0;32m<ipython-input-43-d88427f41410>\u001b[0m in \u001b[0;36m<module>\u001b[0;34m\u001b[0m\n\u001b[0;32m----> 1\u001b[0;31m gpoly.plotting.plot_dod_with_polygons(ortho_files[1],\n\u001b[0m\u001b[1;32m      2\u001b[0m                        \u001b[0mreference_glacier_polygon_file\u001b[0m\u001b[0;34m,\u001b[0m\u001b[0;34m\u001b[0m\u001b[0;34m\u001b[0m\u001b[0m\n\u001b[1;32m      3\u001b[0m                        \u001b[0mmerged_polygon_file\u001b[0m\u001b[0;34m,\u001b[0m\u001b[0;34m\u001b[0m\u001b[0;34m\u001b[0m\u001b[0m\n\u001b[1;32m      4\u001b[0m                       \u001b[0mcmap\u001b[0m\u001b[0;34m=\u001b[0m\u001b[0;34m'Greys'\u001b[0m\u001b[0;34m,\u001b[0m\u001b[0;34m\u001b[0m\u001b[0;34m\u001b[0m\u001b[0m\n\u001b[1;32m      5\u001b[0m                       \u001b[0mvmin\u001b[0m\u001b[0;34m=\u001b[0m\u001b[0;36m0\u001b[0m\u001b[0;34m,\u001b[0m\u001b[0;34m\u001b[0m\u001b[0;34m\u001b[0m\u001b[0m\n",
      "\u001b[0;31mTypeError\u001b[0m: plot_dod_with_polygons() missing 1 required positional argument: 'output_directory'"
     ]
    }
   ],
   "source": []
  },
  {
   "cell_type": "code",
   "execution_count": null,
   "metadata": {},
   "outputs": [],
   "source": []
  },
  {
   "cell_type": "code",
   "execution_count": null,
   "metadata": {},
   "outputs": [],
   "source": []
  },
  {
   "cell_type": "code",
   "execution_count": 116,
   "metadata": {},
   "outputs": [],
   "source": [
    "# def plot_dod_with_polygons(difference_map_file,\n",
    "#                            reference_glacier_polygon_file,\n",
    "#                            detected_polygon_file,\n",
    "#                            merged_polygon_file,\n",
    "#                            cmap=None,\n",
    "#                            vmin = None,\n",
    "#                            vmax = None,\n",
    "#                            cbar_fraction=0.035):\n",
    "    \n",
    "#     polygon_files = [reference_glacier_polygon_file,\n",
    "#                      detected_polygon_file,\n",
    "#                      merged_polygon_file]\n",
    "#     polygons = [gpd.read_file(x) for x in polygon_files]\n",
    "#     labels = ['rgi', 'detected', 'fill from rgi and detected']\n",
    "    \n",
    "#     source = rasterio.open(difference_map_file)\n",
    "#     crs = cartopy.crs.epsg(source.crs.to_epsg())\n",
    "    \n",
    "#     fig, axes = plt.subplots(1,3,figsize=(15,5), subplot_kw={'projection': crs})\n",
    "    \n",
    "#     ax = axes[2]\n",
    "#     cbar_ax = fig.add_axes(ax.get_position())\n",
    "#     sm = cbar_ax.imshow(source.read(1), cmap=cmap, vmin=vmin, vmax=vmax)\n",
    "#     cbar_ax.set_xticks(())\n",
    "#     cbar_ax.set_yticks(())\n",
    "#     cbar_ax.set_visible(False)\n",
    "#     fig.colorbar(sm, ax=ax, fraction=cbar_fraction, pad=0.001, extend=\"both\", aspect=50, label='Elevation difference [m]')\n",
    "    \n",
    "#     labels = ['fill from rgi', 'detected']\n",
    "#     patches = [Patch(facecolor='C0',label=labels[0]),\n",
    "#                Patch(facecolor='r',label=labels[1])]\n",
    "#     ax.legend(handles=patches)\n",
    "    \n",
    "#     for i, ax in enumerate(axes):\n",
    "#         ax.set_xticks(())\n",
    "#         ax.set_yticks(())\n",
    "#         show(source,ax=ax, cmap = cmap, vmin = vmin, vmax = vmax)\n",
    "        \n",
    "#     polygons[0].plot(ax = axes[0])\n",
    "#     polygons[1].plot(ax = axes[1])\n",
    "#     polygons[2].plot(ax = axes[2])\n",
    "#     plt.tight_layout()"
   ]
  },
  {
   "cell_type": "code",
   "execution_count": 117,
   "metadata": {},
   "outputs": [],
   "source": [
    "# plot_dod_with_polygons(difference_map_file,\n",
    "#                        reference_glacier_polygon_file,\n",
    "#                        detected_polygon_file,\n",
    "#                        merged_polygon_file,\n",
    "#                       cmap='RdBu',\n",
    "#                       vmin=-10,\n",
    "#                       vmax=10)"
   ]
  },
  {
   "cell_type": "code",
   "execution_count": null,
   "metadata": {},
   "outputs": [],
   "source": [
    "# call = [\n",
    "#     gdaladdo --config COMPRESS_OVERVIEW LZW --config INTERLEAVE_OVERVIEW PIXEL --config BIGTIFF_OVERVIEW IF_SAFER -ro $1 2 4 8 16 32 64\n",
    "# ]"
   ]
  }
 ],
 "metadata": {
  "kernelspec": {
   "display_name": "glacierpoly",
   "language": "python",
   "name": "glacierpoly"
  },
  "language_info": {
   "codemirror_mode": {
    "name": "ipython",
    "version": 3
   },
   "file_extension": ".py",
   "mimetype": "text/x-python",
   "name": "python",
   "nbconvert_exporter": "python",
   "pygments_lexer": "ipython3",
   "version": "3.8.8"
  }
 },
 "nbformat": 4,
 "nbformat_minor": 4
}
