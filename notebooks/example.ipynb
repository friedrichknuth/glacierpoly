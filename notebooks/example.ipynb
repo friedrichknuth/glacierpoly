{
 "cells": [
  {
   "cell_type": "markdown",
   "metadata": {},
   "source": [
    "## Download testing data"
   ]
  },
  {
   "cell_type": "code",
   "execution_count": 1,
   "metadata": {},
   "outputs": [],
   "source": [
    "%load_ext autoreload\n",
    "%autoreload 2"
   ]
  },
  {
   "cell_type": "code",
   "execution_count": 2,
   "metadata": {},
   "outputs": [],
   "source": [
    "import glacierpoly as gpoly\n",
    "import glob\n",
    "import matplotlib.pyplot as plt"
   ]
  },
  {
   "cell_type": "code",
   "execution_count": 3,
   "metadata": {},
   "outputs": [],
   "source": [
    "import cv2\n",
    "import glob\n",
    "import geopandas as gpd\n",
    "import img2pdf\n",
    "import numpy as np\n",
    "import os\n",
    "import pandas as pd\n",
    "from pathlib import Path\n",
    "import rasterio\n",
    "from rasterio import mask\n",
    "from rasterstats import zonal_stats\n",
    "from shapely.geometry import Polygon, MultiPolygon\n",
    "from shapely.ops import polygonize\n",
    "from skimage.morphology import (erosion, dilation, closing, opening,\n",
    "                                area_closing, area_opening)\n",
    "from skimage.measure import label, regionprops, regionprops_table\n",
    "import subprocess\n"
   ]
  },
  {
   "cell_type": "code",
   "execution_count": 35,
   "metadata": {},
   "outputs": [],
   "source": [
    "reference_dem_file = 'data/reference_dem_2013-2015_WV_composite.tif'\n",
    "reference_glacier_polygon_file = 'data/south_cascade_rgi_polygon.geojson'\n",
    "difference_maps_files = sorted(glob.glob('data/diff*.tif'))"
   ]
  },
  {
   "cell_type": "code",
   "execution_count": 48,
   "metadata": {
    "scrolled": true
   },
   "outputs": [
    {
     "name": "stdout",
     "output_type": "stream",
     "text": [
      "processing diff_dem_ref_1970-09-29\n",
      "detected polygon does not intersect reference polygon\n",
      "reattempting detection without eroding islands\n",
      "SUCCESS\n",
      "\n",
      "processing diff_dem_ref_1974-08-10\n",
      "something went wrong\n",
      "check qc plot for diff_dem_ref_1974-08-10\n",
      "FAIL\n",
      "\n",
      "processing diff_dem_ref_1977-10-03\n",
      "SUCCESS\n",
      "\n",
      "processing diff_dem_ref_1979-08-20\n",
      "SUCCESS\n",
      "\n",
      "processing diff_dem_ref_1979-10-06\n",
      "detected polygon does not intersect reference polygon\n",
      "reattempting detection without eroding islands\n",
      "SUCCESS\n",
      "\n",
      "processing diff_dem_ref_1984-08-14\n",
      "SUCCESS\n",
      "\n",
      "processing diff_dem_ref_1986-09-23\n",
      "SUCCESS\n",
      "\n",
      "processing diff_dem_ref_1987-08-21\n",
      "SUCCESS\n",
      "\n",
      "processing diff_dem_ref_1990-09-05\n",
      "SUCCESS\n",
      "\n",
      "processing diff_dem_ref_1991-09-09\n",
      "SUCCESS\n",
      "\n",
      "processing diff_dem_ref_1992-07-28\n",
      "SUCCESS\n",
      "\n",
      "processing diff_dem_ref_1992-09-15\n",
      "SUCCESS\n",
      "\n",
      "processing diff_dem_ref_1992-09-18\n",
      "SUCCESS\n",
      "\n",
      "processing diff_dem_ref_1992-10-06\n",
      "SUCCESS\n",
      "\n",
      "processing diff_dem_ref_1994-09-06\n",
      "SUCCESS\n",
      "\n",
      "processing diff_dem_ref_1996-09-10\n",
      "SUCCESS\n",
      "\n",
      "processing diff_dem_ref_1997-09-23\n",
      "SUCCESS\n",
      "\n"
     ]
    }
   ],
   "source": [
    "gpoly.core.run_detection(reference_dem_file,\n",
    "                  difference_maps_files,\n",
    "                  reference_glacier_polygon_file,\n",
    "                  output_directory = 'outputs')"
   ]
  }
 ],
 "metadata": {
  "kernelspec": {
   "display_name": "Python [conda env:glacierpoly]",
   "language": "python",
   "name": "conda-env-glacierpoly-py"
  },
  "language_info": {
   "codemirror_mode": {
    "name": "ipython",
    "version": 3
   },
   "file_extension": ".py",
   "mimetype": "text/x-python",
   "name": "python",
   "nbconvert_exporter": "python",
   "pygments_lexer": "ipython3",
   "version": "3.8.8"
  }
 },
 "nbformat": 4,
 "nbformat_minor": 4
}
