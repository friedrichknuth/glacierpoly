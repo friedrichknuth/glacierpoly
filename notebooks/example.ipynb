{
 "cells": [
  {
   "cell_type": "markdown",
   "metadata": {},
   "source": [
    "## Download testing data"
   ]
  },
  {
   "cell_type": "code",
   "execution_count": 93,
   "metadata": {},
   "outputs": [
    {
     "name": "stdout",
     "output_type": "stream",
     "text": [
      "The autoreload extension is already loaded. To reload it, use:\n",
      "  %reload_ext autoreload\n"
     ]
    }
   ],
   "source": [
    "%load_ext autoreload\n",
    "%autoreload 2"
   ]
  },
  {
   "cell_type": "code",
   "execution_count": 94,
   "metadata": {},
   "outputs": [],
   "source": [
    "import glacierpoly as gpoly\n",
    "import glob\n",
    "import matplotlib.pyplot as plt"
   ]
  },
  {
   "cell_type": "code",
   "execution_count": 95,
   "metadata": {},
   "outputs": [],
   "source": [
    "import cv2\n",
    "import cartopy\n",
    "import copy\n",
    "import glob\n",
    "import geopandas as gpd\n",
    "import img2pdf\n",
    "import numpy as np\n",
    "import os\n",
    "import pandas as pd\n",
    "from pathlib import Path\n",
    "import rasterio\n",
    "from rasterio import mask\n",
    "from rasterio.plot import show\n",
    "from rasterstats import zonal_stats\n",
    "from shapely.geometry import Polygon, MultiPolygon\n",
    "from shapely.ops import polygonize\n",
    "from skimage.morphology import (erosion, dilation, closing, opening,\n",
    "                                area_closing, area_opening)\n",
    "from skimage.measure import label, regionprops, regionprops_table\n",
    "import subprocess\n",
    "from matplotlib.patches import Patch\n",
    "from matplotlib.lines import Line2D\n"
   ]
  },
  {
   "cell_type": "code",
   "execution_count": 96,
   "metadata": {},
   "outputs": [],
   "source": [
    "reference_dem_file = '/mnt/Backups/knuth/paper/south_cascade/final_products/scg_test_data/reference_dem.tif'\n",
    "reference_glacier_polygon_file = '/mnt/Backups/knuth/paper/south_cascade/final_products/scg_test_data/rgi_glacier_oultine.geojson'\n",
    "difference_maps_files = sorted(glob.glob('/mnt/Backups/knuth/paper/south_cascade/final_products/scg_test_data/dod*.tif'))\n",
    "ortho_files = sorted(glob.glob('/mnt/Backups/knuth/paper/south_cascade/final_products/scg_test_data/ortho*.tif'))"
   ]
  },
  {
   "cell_type": "code",
   "execution_count": 97,
   "metadata": {},
   "outputs": [
    {
     "name": "stdout",
     "output_type": "stream",
     "text": [
      "processing dod_1967-09-21\n",
      "detected polygon does not intersect reference polygon\n",
      "reattempting detection without eroding islands\n",
      "SUCCESS\n",
      "\n",
      "processing dod_1970-09-29\n",
      "SUCCESS\n",
      "\n",
      "processing dod_1974-08-10\n",
      "SUCCESS\n",
      "\n",
      "processing dod_1977-10-03\n",
      "SUCCESS\n",
      "\n",
      "processing dod_1979-08-20\n",
      "SUCCESS\n",
      "\n",
      "processing dod_1979-10-06\n",
      "detected polygon does not intersect reference polygon\n",
      "reattempting detection without eroding islands\n",
      "SUCCESS\n",
      "\n",
      "processing dod_1984-08-14\n",
      "SUCCESS\n",
      "\n",
      "processing dod_1986-09-05\n",
      "SUCCESS\n",
      "\n",
      "processing dod_1987-08-21\n",
      "SUCCESS\n",
      "\n",
      "processing dod_1990-09-05\n",
      "SUCCESS\n",
      "\n",
      "processing dod_1991-09-09\n",
      "SUCCESS\n",
      "\n",
      "processing dod_1992-07-28\n",
      "SUCCESS\n",
      "\n",
      "processing dod_1992-09-15\n",
      "SUCCESS\n",
      "\n",
      "processing dod_1992-09-18\n",
      "SUCCESS\n",
      "\n",
      "processing dod_1992-10-06\n",
      "SUCCESS\n",
      "\n",
      "processing dod_1994-09-06\n",
      "SUCCESS\n",
      "\n",
      "processing dod_1996-09-10\n",
      "SUCCESS\n",
      "\n",
      "processing dod_1997-09-23\n",
      "SUCCESS\n",
      "\n"
     ]
    }
   ],
   "source": [
    "gpoly.core.run_detection(reference_dem_file,\n",
    "                  difference_maps_files,\n",
    "                  reference_glacier_polygon_file,\n",
    "                     ortho_files = ortho_files,    \n",
    "                  output_directory = 'outputs')"
   ]
  },
  {
   "cell_type": "code",
   "execution_count": 98,
   "metadata": {},
   "outputs": [
    {
     "name": "stdout",
     "output_type": "stream",
     "text": [
      "processing dod_1967-09-21\n",
      "detected polygon does not intersect reference polygon\n",
      "reattempting detection without eroding islands\n",
      "SUCCESS\n",
      "\n"
     ]
    }
   ],
   "source": [
    "gpoly.core.run_detection(reference_dem_file,\n",
    "                  [difference_maps_files[0],],\n",
    "                  reference_glacier_polygon_file,\n",
    "                     ortho_files = [ortho_files[0],],\n",
    "                         dilation_iterations=2,\n",
    "                  output_directory = 'outputs')"
   ]
  },
  {
   "cell_type": "code",
   "execution_count": 12,
   "metadata": {},
   "outputs": [],
   "source": [
    "# ! rm -rf outputs/"
   ]
  },
  {
   "cell_type": "code",
   "execution_count": null,
   "metadata": {},
   "outputs": [],
   "source": []
  },
  {
   "cell_type": "code",
   "execution_count": null,
   "metadata": {},
   "outputs": [],
   "source": [
    "difference_map_file = difference_maps_files[0]\n",
    "merged_polygon_file = 'outputs/glacier_outline_detected_1967-09-21.geojson'\n",
    "output_directory = './'"
   ]
  },
  {
   "cell_type": "code",
   "execution_count": null,
   "metadata": {},
   "outputs": [],
   "source": []
  },
  {
   "cell_type": "code",
   "execution_count": null,
   "metadata": {},
   "outputs": [],
   "source": []
  },
  {
   "cell_type": "code",
   "execution_count": 8,
   "metadata": {},
   "outputs": [
    {
     "name": "stdout",
     "output_type": "stream",
     "text": [
      "outputs/glacier_outline_detected_1979-10-06.geojson\r\n",
      "outputs/glacier_outline_detected_1992-10-06.geojson\r\n",
      "outputs/glacier_outline_detected_1994-09-06.geojson\r\n",
      "outputs/glacier_outline_full_1979-10-06.geojson\r\n",
      "outputs/glacier_outline_full_1992-10-06.geojson\r\n",
      "outputs/glacier_outline_full_1994-09-06.geojson\r\n"
     ]
    }
   ],
   "source": [
    "! ls outputs/*6.geojson"
   ]
  },
  {
   "cell_type": "code",
   "execution_count": 85,
   "metadata": {},
   "outputs": [],
   "source": [
    "def plot_tif_with_polygons(\n",
    "    difference_map_file,\n",
    "    reference_glacier_polygon_file,\n",
    "    merged_polygon_file,\n",
    "    output_directory,\n",
    "    suffix=None,\n",
    "    cmap_name=None,\n",
    "    cbar_label = None,\n",
    "    bad_value_color='none',\n",
    "    alpha = 1,\n",
    "    vmin=None,\n",
    "    vmax=None,\n",
    "    vmin_percentile = 30, # values for orthos 0-255\n",
    "    vmax_percentile = 99, # values for orthos 0-255\n",
    "    cbar_fraction=0.035,\n",
    "):\n",
    "\n",
    "    cmap = copy.copy(plt.cm.get_cmap(cmap_name))\n",
    "    cmap.set_bad(color=bad_value_color)\n",
    "\n",
    "    Path(output_directory).mkdir(parents=True, exist_ok=True)\n",
    "    file_name = str(Path(difference_map_file).stem)\n",
    "    qc_plot_file_name = file_name.split(\"_\")[-1] + suffix\n",
    "\n",
    "    source = rasterio.open(difference_map_file)\n",
    "\n",
    "    if vmin == None and vmax == None:\n",
    "        array = source.read(1)\n",
    "        array = array.astype(float)\n",
    "        array = gpoly.core.replace_and_fill_nodata_value(array, source.nodata, np.nan)\n",
    "        vmin, vmax = np.nanpercentile(array, [vmin_percentile, vmax_percentile])\n",
    "\n",
    "    fig, ax = plt.subplots(figsize=(10, 10))\n",
    "\n",
    "    sm = ax.imshow(source.read(1), cmap=cmap, vmin=vmin, vmax=vmax, alpha=alpha)\n",
    "\n",
    "    crs = cartopy.crs.epsg(source.crs.to_epsg())\n",
    "\n",
    "    ax = plt.axes(projection=crs)\n",
    "    #     ax.set_facecolor('black')\n",
    "\n",
    "    show(\n",
    "        source, cmap=cmap, ax=ax, interpolation=\"none\", vmin=vmin, vmax=vmax, alpha=alpha\n",
    "    )\n",
    "\n",
    "    cb = fig.colorbar(\n",
    "        sm, ax=ax, fraction=cbar_fraction, pad=0.001, extend=\"both\", aspect=50\n",
    "    )\n",
    "    cb.set_label(label=cbar_label, size=15)\n",
    "    cb.ax.tick_params(labelsize=12)\n",
    "\n",
    "    reference_glacier_polygon = gpd.read_file(reference_glacier_polygon_file)\n",
    "    merged_polygon = gpd.read_file(merged_polygon_file)\n",
    "\n",
    "    reference_glacier_polygon.plot(ax=ax, facecolor=\"none\", edgecolor=\"b\",linewidth=3)\n",
    "    merged_polygon.plot(ax=ax, facecolor=\"none\", edgecolor=\"g\",linewidth=3)\n",
    "\n",
    "    if reference_glacier_polygon.geometry.area[0] > merged_polygon.geometry.area[0]:\n",
    "        tmp_poly = reference_glacier_polygon\n",
    "    else:\n",
    "        tmp_poly = merged_polygon\n",
    "    bounds = tmp_poly.geometry.total_bounds\n",
    "    xlim = [bounds[0] - 10, bounds[2] + 10]\n",
    "    ylim = [bounds[1] - 10, bounds[3] + 10]\n",
    "    ax.set_xlim(xlim)\n",
    "    ax.set_ylim(ylim)\n",
    "\n",
    "    rgi_area = str(np.around((reference_glacier_polygon.area[0] / 1e6), 2))\n",
    "    detected_area = str(np.around((merged_polygon.area[0] / 1e6), 2))\n",
    "\n",
    "    labels = [\n",
    "        \"RGI area \" + rgi_area + \" km2\",\n",
    "        \"Detected area \" + detected_area + \" km2\",\n",
    "    ]\n",
    "    patches = [\n",
    "        Line2D([0], [0], color=\"b\", label=labels[0]),\n",
    "        Line2D([0], [0], color=\"g\", label=labels[1]),\n",
    "    ]\n",
    "    ax.legend(handles=patches)\n",
    "    ax.set_title(file_name.split(\"_\")[-1])\n",
    "    #         ax.fill_between([0,1],[1,1],hatch=\"X\")\n",
    "\n",
    "    fig.savefig(\n",
    "        os.path.join(output_directory, qc_plot_file_name + \".jpg\"),\n",
    "        bbox_inches=\"tight\",\n",
    "        pad_inches=0,\n",
    "    )\n",
    "    plt.close()"
   ]
  },
  {
   "cell_type": "code",
   "execution_count": 86,
   "metadata": {},
   "outputs": [],
   "source": [
    "merged_polygon_file = 'outputs/glacier_outline_full_1994-09-06.geojson'\n",
    "difference_map_file = difference_maps_files[-3]\n",
    "ortho_file = ortho_files[-3]"
   ]
  },
  {
   "cell_type": "code",
   "execution_count": 87,
   "metadata": {},
   "outputs": [],
   "source": [
    "plot_tif_with_polygons(\n",
    "    ortho_file,\n",
    "    reference_glacier_polygon_file,\n",
    "    merged_polygon_file,\n",
    "    './',\n",
    "    suffix=\"_01_ortho\",\n",
    "    cmap_name=\"Greys\",\n",
    "    alpha = 1,\n",
    "    bad_value_color='yellow',\n",
    ")"
   ]
  },
  {
   "cell_type": "code",
   "execution_count": 91,
   "metadata": {},
   "outputs": [],
   "source": [
    "plot_tif_with_polygons(\n",
    "    difference_map_file,\n",
    "    reference_glacier_polygon_file,\n",
    "    merged_polygon_file,\n",
    "    './',\n",
    "    suffix=\"_01_dod\",\n",
    "    cmap_name=\"RdBu\",\n",
    "    vmin=-10,\n",
    "    vmax=10,\n",
    "    alpha = 1,\n",
    "    bad_value_color='black',\n",
    ")"
   ]
  },
  {
   "cell_type": "code",
   "execution_count": null,
   "metadata": {},
   "outputs": [],
   "source": [
    "difference_map_file = difference_maps_files[-3]\n",
    "dilation_iterations=4\n",
    "detected_polygon_file = 'outputs/glacier_outline_detected_1994-09-06.geojson'"
   ]
  },
  {
   "cell_type": "code",
   "execution_count": null,
   "metadata": {},
   "outputs": [],
   "source": [
    "# file_name = str(Path(difference_map_file).stem)\n",
    "# print(\"processing\", file_name)\n",
    "\n",
    "# transform, res, crs = gpoly.core.get_raster_metadata(difference_map_file)\n",
    "# array = gpoly.core.clip_raster_by_buffer(\n",
    "#     difference_map_file, reference_glacier_polygon_file, buffer_distance=2000\n",
    "# )\n",
    "\n",
    "# arrays = gpoly.core.detect_glacier(\n",
    "#     array, erode_islands=True, dilation_iterations=dilation_iterations\n",
    "# )\n",
    "\n",
    "# detected_array = arrays[-1]\n",
    "# detected_polygon_gdf = gpoly.core.convert_glacier_array_to_gdf(\n",
    "#     detected_array, transform, res, crs\n",
    "# )\n",
    "\n",
    "# detected_polygon_gdf = gpoly.core.find_largest_intersecting_detected_polygon(\n",
    "#     reference_glacier_polygon_file, detected_polygon_gdf\n",
    "# )\n",
    "# merged = gpoly.core.merge_with_undetected_high_elevation_areas(\n",
    "#     reference_dem_file,\n",
    "#     reference_glacier_polygon_file,\n",
    "#     detected_polygon_file,\n",
    "# )"
   ]
  },
  {
   "cell_type": "code",
   "execution_count": null,
   "metadata": {},
   "outputs": [],
   "source": [
    "# arrays"
   ]
  },
  {
   "cell_type": "code",
   "execution_count": null,
   "metadata": {},
   "outputs": [],
   "source": [
    "# create qc plots\n",
    "file_name = str(Path(difference_map_file).stem)\n",
    "\n",
    "labels = [\n",
    "    \"unit8 array\",\n",
    "    \"canny edges\",\n",
    "    \"dilated edges\",\n",
    "    \"area closing\",\n",
    "    \"largest area\",\n",
    "    \"final polygon\",\n",
    "]\n",
    "fig = plt.figure(figsize=(10, 8))\n",
    "qc_plot_file_name = file_name.split(\"_\")[-1] + \"_00_gallery\"\n",
    "fig.suptitle(file_name.split(\"_\")[-1])\n",
    "rows = 2\n",
    "columns = 3\n",
    "for i in range(rows * columns):\n",
    "    try:\n",
    "        arr = arrays[i]\n",
    "        ax = plt.subplot(rows, columns, i + 1)\n",
    "        if labels[i] == \"canny edges\" or labels[i] == \"dilated edges\":\n",
    "            ax.imshow(arr,vmin=0,vmax=1)\n",
    "        else:\n",
    "            ax.imshow(arr)\n",
    "        ax.set_xticks(())\n",
    "        ax.set_yticks(())\n",
    "        ax.set_title(labels[i])\n",
    "    except:\n",
    "        try:\n",
    "            ax = plt.subplot(rows, columns, i + 1)\n",
    "            try:\n",
    "                merged.plot(ax=ax)\n",
    "            except:\n",
    "                pass\n",
    "            detected_polygon_gdf.plot(ax=ax, color=\"r\")\n",
    "            ax.set_xticks(())\n",
    "            ax.set_yticks(())\n",
    "            ax.set_title(labels[i])\n",
    "            labels = [\"fill from rgi\", \"detected\"]\n",
    "            patches = [\n",
    "                Patch(facecolor=\"C0\", label=labels[0]),\n",
    "                Patch(facecolor=\"r\", label=labels[1]),\n",
    "            ]\n",
    "            ax.legend(handles=patches)\n",
    "        except:\n",
    "            pass\n",
    "plt.tight_layout()"
   ]
  },
  {
   "cell_type": "code",
   "execution_count": null,
   "metadata": {},
   "outputs": [],
   "source": []
  },
  {
   "cell_type": "code",
   "execution_count": null,
   "metadata": {},
   "outputs": [],
   "source": []
  },
  {
   "cell_type": "code",
   "execution_count": null,
   "metadata": {},
   "outputs": [],
   "source": [
    "gpoly.plotting.create_detection_qc_gallery(\n",
    "    arrays,\n",
    "    detected_polygon_gdf,\n",
    "    './',\n",
    "    difference_map_file,\n",
    "    merged=merged,\n",
    ")"
   ]
  },
  {
   "cell_type": "code",
   "execution_count": null,
   "metadata": {},
   "outputs": [],
   "source": []
  },
  {
   "cell_type": "code",
   "execution_count": null,
   "metadata": {},
   "outputs": [],
   "source": [
    "import hvplot\n",
    "import hvplot.pandas  # noqa\n",
    "import hvplot.xarray  # noqa\n",
    "# import geoviews as gv\n",
    "import xarray as xr\n",
    "import rioxarray\n",
    "import holoviews as hv\n",
    "\n",
    "from holoviews import opts\n",
    "from holoviews.streams import PointDraw, PolyEdit, BoxEdit, PolyDraw, FreehandDraw\n",
    "from holoviews.operation.datashader import regrid"
   ]
  },
  {
   "cell_type": "code",
   "execution_count": null,
   "metadata": {},
   "outputs": [],
   "source": []
  },
  {
   "cell_type": "code",
   "execution_count": null,
   "metadata": {},
   "outputs": [],
   "source": [
    "outlines = sorted(glob.glob('outputs/*geojson'))"
   ]
  },
  {
   "cell_type": "code",
   "execution_count": null,
   "metadata": {},
   "outputs": [],
   "source": [
    "gdf = gpd.read_file(outlines[1])\n",
    "gdf = gdf.explode().reset_index().iloc[: , 2:]\n",
    "gdf = gdf[gdf.area == gdf.area.max()]\n",
    "\n",
    "mask_poly = gdf.geometry.iloc[0].exterior.coords.xy\n",
    "mask_poly = hv.Polygons(mask_poly).opts(show_legend=True)\n",
    "mask_poly = mask_poly.relabel('detected')"
   ]
  },
  {
   "cell_type": "code",
   "execution_count": null,
   "metadata": {},
   "outputs": [],
   "source": [
    "gdf = gpd.read_file(reference_glacier_polygon_file)\n",
    "gdf = gdf.explode().reset_index().iloc[: , 2:]\n",
    "gdf = gdf[gdf.area == gdf.area.max()]\n",
    "\n",
    "mask_poly2 = gdf.geometry.iloc[0].exterior.coords.xy\n",
    "mask_poly2 = hv.Polygons(mask_poly2).opts(show_legend=True)\n",
    "mask_poly2 = mask_poly2.relabel('rgi')"
   ]
  },
  {
   "cell_type": "code",
   "execution_count": null,
   "metadata": {},
   "outputs": [],
   "source": [
    "vertex_stream = PolyEdit(source=mask_poly)"
   ]
  },
  {
   "cell_type": "code",
   "execution_count": null,
   "metadata": {},
   "outputs": [],
   "source": [
    "da = rioxarray.open_rasterio(difference_maps_files[1],masked=True)\n",
    "da.name='dod'\n",
    "img = hv.Dataset(da).to(hv.Image, [\"x\", \"y\"]).opts(cmap=\"RdBu\", \n",
    "                                                   clim=(-10,10), \n",
    "                                                   aspect=1, \n",
    "                                                   frame_height=500)"
   ]
  },
  {
   "cell_type": "code",
   "execution_count": null,
   "metadata": {},
   "outputs": [],
   "source": [
    "# regrid(img) * mask_poly * mask_poly2"
   ]
  },
  {
   "cell_type": "code",
   "execution_count": null,
   "metadata": {},
   "outputs": [],
   "source": [
    "# arrays = [np.column_stack([xs, ys]) for xs, ys in zip(vertex_stream.data['xs'], vertex_stream.data['ys'])]"
   ]
  },
  {
   "cell_type": "code",
   "execution_count": null,
   "metadata": {},
   "outputs": [],
   "source": [
    "# vertex_stream.element.data"
   ]
  },
  {
   "cell_type": "code",
   "execution_count": null,
   "metadata": {},
   "outputs": [],
   "source": [
    "# len(vertex_stream.element.data[1]['x'])"
   ]
  },
  {
   "cell_type": "code",
   "execution_count": null,
   "metadata": {},
   "outputs": [],
   "source": [
    "# Polygon(arrays[0])"
   ]
  },
  {
   "cell_type": "code",
   "execution_count": null,
   "metadata": {},
   "outputs": [],
   "source": [
    "ortho_files[0]"
   ]
  },
  {
   "cell_type": "code",
   "execution_count": null,
   "metadata": {},
   "outputs": [],
   "source": [
    "da = rioxarray.open_rasterio(ortho_files[0],masked=True)\n",
    "da = da[da.band==2]\n",
    "da.name='ortho'\n",
    "\n",
    "ds = xr.Dataset()\n",
    "for i, v in enumerate(da.band):\n",
    "    da_tmp = da.sel(band=v)\n",
    "    da_tmp.name = \"band\" + str(i + 1)\n",
    "\n",
    "    ds[da_tmp.name] = da_tmp\n",
    "del ds.coords[\"band\"]"
   ]
  },
  {
   "cell_type": "code",
   "execution_count": null,
   "metadata": {},
   "outputs": [],
   "source": [
    "img2 = hv.Dataset(ds['band1']).to(hv.Image, [\"x\", \"y\"]).opts(cmap=\"RdBu\", \n",
    "                                                             clim=(-10,10), \n",
    "                                                             aspect=1, \n",
    "                                                             frame_height=500,\n",
    "                                                             rasterize=True)"
   ]
  },
  {
   "cell_type": "code",
   "execution_count": null,
   "metadata": {},
   "outputs": [],
   "source": [
    "regrid(img) * mask_poly * regrid(img2)"
   ]
  },
  {
   "cell_type": "code",
   "execution_count": null,
   "metadata": {},
   "outputs": [],
   "source": []
  },
  {
   "cell_type": "code",
   "execution_count": null,
   "metadata": {},
   "outputs": [],
   "source": []
  },
  {
   "cell_type": "code",
   "execution_count": null,
   "metadata": {},
   "outputs": [],
   "source": []
  }
 ],
 "metadata": {
  "kernelspec": {
   "display_name": "glacierpoly",
   "language": "python",
   "name": "glacierpoly"
  },
  "language_info": {
   "codemirror_mode": {
    "name": "ipython",
    "version": 3
   },
   "file_extension": ".py",
   "mimetype": "text/x-python",
   "name": "python",
   "nbconvert_exporter": "python",
   "pygments_lexer": "ipython3",
   "version": "3.8.8"
  }
 },
 "nbformat": 4,
 "nbformat_minor": 4
}
