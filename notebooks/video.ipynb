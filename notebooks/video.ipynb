{
 "cells": [
  {
   "cell_type": "code",
   "execution_count": 30,
   "metadata": {},
   "outputs": [
    {
     "name": "stdout",
     "output_type": "stream",
     "text": [
      "The autoreload extension is already loaded. To reload it, use:\n",
      "  %reload_ext autoreload\n"
     ]
    }
   ],
   "source": [
    "%load_ext autoreload\n",
    "%autoreload 2"
   ]
  },
  {
   "cell_type": "code",
   "execution_count": 31,
   "metadata": {},
   "outputs": [],
   "source": [
    "import os\n",
    "from pathlib import Path\n",
    "import glacierpoly as gpoly\n",
    "import glob\n",
    "import geopandas as gpd\n",
    "from shapely.geometry import Polygon\n",
    "import pandas as pd\n",
    "import rasterio\n",
    "import matplotlib.pyplot as plt\n",
    "import numpy as np\n",
    "import cv2\n",
    "from skimage.io import imshow\n",
    "from skimage.morphology import (erosion, dilation, closing, opening,\n",
    "                                area_closing, area_opening)\n",
    "from skimage.measure import label, regionprops, regionprops_table\n",
    "from rasterstats import zonal_stats\n",
    "from rasterio.plot import show\n",
    "from rasterio import mask\n",
    "import subprocess\n",
    "\n",
    "from IPython.display import Video\n",
    "\n",
    "import glacierpoly as gpoly\n",
    "\n",
    "import warnings\n",
    "warnings.filterwarnings('ignore')"
   ]
  },
  {
   "cell_type": "code",
   "execution_count": 32,
   "metadata": {},
   "outputs": [
    {
     "data": {
      "text/plain": [
       "<AxesSubplot:>"
      ]
     },
     "execution_count": 32,
     "metadata": {},
     "output_type": "execute_result"
    },
    {
     "data": {
      "image/png": "[encoded data removed]",
      "text/plain": [
       "<Figure size 432x288 with 1 Axes>"
      ]
     },
     "metadata": {
      "needs_background": "light"
     },
     "output_type": "display_data"
    }
   ],
   "source": [
    "rgi = '/mnt/Backups/knuth/paper/south_cascade/final_products/scg_test_data/rgi_glacier_oultine.geojson'\n",
    "\n",
    "gdf = gpd.read_file(rgi)\n",
    "gdf.plot()"
   ]
  },
  {
   "cell_type": "code",
   "execution_count": 33,
   "metadata": {},
   "outputs": [
    {
     "name": "stdout",
     "output_type": "stream",
     "text": [
      "outputs/glacier_outline_full_1967-09-21.geojson\r\n",
      "outputs/glacier_outline_full_1970-09-29.geojson\r\n",
      "outputs/glacier_outline_full_1974-08-10.geojson\r\n",
      "outputs/glacier_outline_full_1977-10-03.geojson\r\n",
      "outputs/glacier_outline_full_1979-08-20.geojson\r\n",
      "outputs/glacier_outline_full_1979-10-06.geojson\r\n",
      "outputs/glacier_outline_full_1984-08-14.geojson\r\n",
      "outputs/glacier_outline_full_1986-09-05.geojson\r\n",
      "outputs/glacier_outline_full_1987-08-21.geojson\r\n",
      "outputs/glacier_outline_full_1990-09-05.geojson\r\n",
      "outputs/glacier_outline_full_1991-09-09.geojson\r\n",
      "outputs/glacier_outline_full_1992-07-28.geojson\r\n",
      "outputs/glacier_outline_full_1992-09-15.geojson\r\n",
      "outputs/glacier_outline_full_1992-09-18.geojson\r\n",
      "outputs/glacier_outline_full_1992-10-06.geojson\r\n",
      "outputs/glacier_outline_full_1994-09-06.geojson\r\n",
      "outputs/glacier_outline_full_1996-09-10.geojson\r\n",
      "outputs/glacier_outline_full_1997-09-23.geojson\r\n"
     ]
    }
   ],
   "source": [
    "! ls outputs/*full*geojson"
   ]
  },
  {
   "cell_type": "code",
   "execution_count": 34,
   "metadata": {},
   "outputs": [],
   "source": [
    "polygons = sorted(glob.glob('outputs/*full*geojson'))"
   ]
  },
  {
   "cell_type": "code",
   "execution_count": 35,
   "metadata": {},
   "outputs": [],
   "source": [
    "glaciers = []\n",
    "for p in polygons:\n",
    "    tmp = gpd.read_file(p)\n",
    "    glaciers.append(tmp)"
   ]
  },
  {
   "cell_type": "code",
   "execution_count": 36,
   "metadata": {},
   "outputs": [],
   "source": [
    "xlim = ([gdf.total_bounds[0],  gdf.total_bounds[2]])\n",
    "ylim = ([gdf.total_bounds[1],  gdf.total_bounds[3]])"
   ]
  },
  {
   "cell_type": "code",
   "execution_count": 37,
   "metadata": {},
   "outputs": [],
   "source": [
    "# %%capture\n",
    "for i,g in enumerate(glaciers):\n",
    "    fig,ax = plt.subplots(figsize=(10,10))\n",
    "    ax.set_xlim(xlim)\n",
    "    ax.set_ylim(ylim)\n",
    "    ax.axis('off')\n",
    "    ax.set_title(polygons[i].split(\"_\")[-1].split(\".\")[0],fontsize=30)\n",
    "    g.plot(ax=ax)\n",
    "    fig.savefig('test_'+str(i).zfill(2)+'.png')\n",
    "    plt.close()"
   ]
  },
  {
   "cell_type": "code",
   "execution_count": 38,
   "metadata": {},
   "outputs": [
    {
     "data": {
      "text/plain": [
       "0"
      ]
     },
     "execution_count": 38,
     "metadata": {},
     "output_type": "execute_result"
    }
   ],
   "source": [
    "! rm video_name.mp4\n",
    "\n",
    "subprocess.call([\n",
    "    'ffmpeg', '-framerate', '4', '-pattern_type', 'glob', '-i', 'test_*.png', '-r', '30', '-pix_fmt', 'yuv420p',\n",
    "    'video_name.mp4'\n",
    "])"
   ]
  },
  {
   "cell_type": "code",
   "execution_count": 39,
   "metadata": {},
   "outputs": [
    {
     "data": {
      "text/html": [
       "<video src=\"video_name.mp4\" controls  >\n",
       "      Your browser does not support the <code>video</code> element.\n",
       "    </video>"
      ],
      "text/plain": [
       "<IPython.core.display.Video object>"
      ]
     },
     "execution_count": 39,
     "metadata": {},
     "output_type": "execute_result"
    }
   ],
   "source": [
    "Video(\"video_name.mp4\")"
   ]
  },
  {
   "cell_type": "code",
   "execution_count": null,
   "metadata": {},
   "outputs": [],
   "source": [
    "# ffmpeg -i video_name.mp4 -vf \"fps=10,scale=320:-1:flags=lanczos,split[s0][s1];[s0]palettegen[p];[s1][p]paletteuse\" -loop 0 output.gif\n"
   ]
  },
  {
   "cell_type": "code",
   "execution_count": null,
   "metadata": {},
   "outputs": [],
   "source": [
    "# ffmpeg \\\n",
    "#   -i video_name.mp4 \\\n",
    "#   -i video_name.mp4 \\\n",
    "#   -filter_complex '[0:v]pad=iw*2:ih[int];[int][1:v]overlay=W/2:0[vid]' \\\n",
    "#   -map '[vid]' \\\n",
    "#   -c:v libx264 \\\n",
    "#   -crf 23 \\\n",
    "#   -preset veryfast \\\n",
    "#   output.mp4"
   ]
  }
 ],
 "metadata": {
  "kernelspec": {
   "display_name": "glacierpoly",
   "language": "python",
   "name": "glacierpoly"
  },
  "language_info": {
   "codemirror_mode": {
    "name": "ipython",
    "version": 3
   },
   "file_extension": ".py",
   "mimetype": "text/x-python",
   "name": "python",
   "nbconvert_exporter": "python",
   "pygments_lexer": "ipython3",
   "version": "3.8.8"
  }
 },
 "nbformat": 4,
 "nbformat_minor": 4
}
